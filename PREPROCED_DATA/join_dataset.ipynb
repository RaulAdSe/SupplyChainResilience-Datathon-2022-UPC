{
 "cells": [
  {
   "cell_type": "code",
   "execution_count": 1,
   "metadata": {},
   "outputs": [],
   "source": [
    "import pandas as pd\n",
    "import numpy as np \n",
    "import matplotlib.pyplot as plt"
   ]
  },
  {
   "cell_type": "code",
   "execution_count": 9,
   "metadata": {},
   "outputs": [],
   "source": [
    "# read train data\n",
    "df_orders = pd.read_csv(\"orders.csv\", sep=\",\")\n",
    "df_products = pd.read_csv(\"product_attributes.csv\", sep=\",\")\n",
    "df_dists = pd.read_csv(\"cities_data.csv\", sep=\";\")\n",
    "df_test = pd.read_csv(\"test.csv\", sep=\";\")\n",
    "\n",
    "\n",
    "# Solve columns index\n",
    "df_orders=df_orders.iloc[:,1:]\n"
   ]
  },
  {
   "cell_type": "code",
   "execution_count": 11,
   "metadata": {},
   "outputs": [
    {
     "data": {
      "text/plain": [
       "Rotterdam    65191\n",
       "Athens       27529\n",
       "Barcelona    21556\n",
       "Name: origin_port, dtype: int64"
      ]
     },
     "execution_count": 11,
     "metadata": {},
     "output_type": "execute_result"
    }
   ],
   "source": [
    "df_aux['origin_port'].value_counts()"
   ]
  },
  {
   "cell_type": "code",
   "execution_count": 10,
   "metadata": {},
   "outputs": [],
   "source": [
    "df_orders = df_orders.join(df_products.set_index('product_id'), on='product_id')\n",
    "\n",
    "df_aux = pd.merge(df_orders, df_dists,  how='left', left_on=['origin_port','logistic_hub'], right_on = ['city_from_name','city_to_name'])\n",
    "df_aux_2 = pd.merge(df_orders, df_dists,  how='left', left_on=['origin_port','logistic_hub'], right_on = ['city_to_name','city_from_name'])\n",
    "\n",
    "\n",
    "df_aux.loc[pd.isna(df_aux['distance']),'distance'] = 0\n",
    "df_aux_2.loc[pd.isna(df_aux_2['distance']),'distance'] = 0\n",
    "\n",
    "\n",
    "df_aux['distance'] = df_aux['distance'] + df_aux_2['distance']\n",
    "\n",
    "\n",
    "df_aux=df_aux.drop(['city_from_name',\t'city_to_name',\t'city_from_coord',\t'city_to_coord'], axis=1)\n",
    "\n",
    "df=df_aux.rename({'distance': 'distance_port_hub'}, axis=1)\n",
    "\n",
    "\n",
    "df_aux = pd.merge(df, df_dists,  how='left', left_on=['logistic_hub','customer'], right_on = ['city_from_name','city_to_name'])\n",
    "df_aux_2 = pd.merge(df, df_dists,  how='left', left_on=['logistic_hub','customer'], right_on = ['city_to_name','city_from_name'])\n",
    "\n",
    "\n",
    "df_aux.loc[pd.isna(df_aux['distance']),'distance'] = 0\n",
    "df_aux_2.loc[pd.isna(df_aux_2['distance']),'distance'] = 0\n",
    "\n",
    "\n",
    "df_aux['distance'] = df_aux['distance'] + df_aux_2['distance']\n",
    "\n",
    "\n",
    "df_aux=df_aux.drop(['city_from_name',\t'city_to_name',\t'city_from_coord',\t'city_to_coord'], axis=1)\n",
    "\n",
    "df=df_aux.rename({'distance': 'distance_hub_customer'}, axis=1)\n",
    "\n",
    "\n",
    "df['distance_total'] = df['distance_port_hub'] + df['distance_hub_customer'] \n",
    "\n",
    "\n",
    "df['late_order_1'] = df['late_order']\n",
    "df=df.drop(['late_order'],axis=1) \n",
    "df['late_order'] = df['late_order_1']\n",
    "df=df.drop(['late_order_1'],axis=1)\n",
    "\n",
    "\n",
    "\n",
    "df.to_csv('df_joined.csv', index=False)  \n",
    "df.to_csv('df_joined.xlsx', index=False)  "
   ]
  },
  {
   "cell_type": "code",
   "execution_count": 5,
   "metadata": {},
   "outputs": [],
   "source": [
    "df_test = df_test.join(df_products.set_index('product_id'), on='product_id')\n",
    "\n",
    "df_aux = pd.merge(df_test, df_dists,  how='left', left_on=['origin_port','logistic_hub'], right_on = ['city_from_name','city_to_name'])\n",
    "df_aux_2 = pd.merge(df_test, df_dists,  how='left', left_on=['origin_port','logistic_hub'], right_on = ['city_to_name','city_from_name'])\n",
    "\n",
    "\n",
    "df_aux.loc[pd.isna(df_aux['distance']),'distance'] = 0\n",
    "df_aux_2.loc[pd.isna(df_aux_2['distance']),'distance'] = 0\n",
    "\n",
    "\n",
    "df_aux['distance'] = df_aux['distance'] + df_aux_2['distance']\n",
    "\n",
    "\n",
    "df_aux=df_aux.drop(['city_from_name',\t'city_to_name',\t'city_from_coord',\t'city_to_coord'], axis=1)\n",
    "\n",
    "df=df_aux.rename({'distance': 'distance_port_hub'}, axis=1)\n",
    "\n",
    "\n",
    "df_aux = pd.merge(df, df_dists,  how='left', left_on=['logistic_hub','customer'], right_on = ['city_from_name','city_to_name'])\n",
    "df_aux_2 = pd.merge(df, df_dists,  how='left', left_on=['logistic_hub','customer'], right_on = ['city_to_name','city_from_name'])\n",
    "\n",
    "\n",
    "df_aux.loc[pd.isna(df_aux['distance']),'distance'] = 0\n",
    "df_aux_2.loc[pd.isna(df_aux_2['distance']),'distance'] = 0\n",
    "\n",
    "\n",
    "df_aux['distance'] = df_aux['distance'] + df_aux_2['distance']\n",
    "\n",
    "\n",
    "df_aux=df_aux.drop(['city_from_name',\t'city_to_name',\t'city_from_coord',\t'city_to_coord'], axis=1)\n",
    "\n",
    "df=df_aux.rename({'distance': 'distance_hub_customer'}, axis=1)\n",
    "\n",
    "\n",
    "df['distance_total'] = df['distance_port_hub'] + df['distance_hub_customer'] \n",
    "\n",
    "\n",
    "\n",
    "\n",
    "df.to_csv('df_test.csv', index=False)  \n",
    "df.to_csv('df_test.xlsx', index=False)  "
   ]
  },
  {
   "cell_type": "code",
   "execution_count": null,
   "metadata": {},
   "outputs": [],
   "source": []
  }
 ],
 "metadata": {
  "kernelspec": {
   "display_name": "Python 3.11.0 64-bit",
   "language": "python",
   "name": "python3"
  },
  "language_info": {
   "codemirror_mode": {
    "name": "ipython",
    "version": 3
   },
   "file_extension": ".py",
   "mimetype": "text/x-python",
   "name": "python",
   "nbconvert_exporter": "python",
   "pygments_lexer": "ipython3",
   "version": "3.11.0"
  },
  "orig_nbformat": 4,
  "vscode": {
   "interpreter": {
    "hash": "7fbab83165241200a1dfea36fa37705a580cccf132db728c31e14916dd46bfac"
   }
  }
 },
 "nbformat": 4,
 "nbformat_minor": 2
}
