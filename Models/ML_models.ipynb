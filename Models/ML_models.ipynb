{
 "cells": [
  {
   "cell_type": "code",
   "execution_count": 39,
   "metadata": {},
   "outputs": [],
   "source": [
    "import pandas as pd\n",
    "import matplotlib.pyplot as plt\n",
    "from sklearn.utils import shuffle\n",
    "import numpy as np\n",
    "\n",
    "from sklearn.neighbors import KNeighborsClassifier, NearestCentroid\n",
    "from sklearn.metrics import accuracy_score, f1_score, make_scorer, recall_score, recall_score\n",
    "from sklearn.model_selection import GridSearchCV\n",
    "from sklearn.naive_bayes import GaussianNB\n",
    "from sklearn.discriminant_analysis import LinearDiscriminantAnalysis\n",
    "from sklearn.linear_model import LogisticRegression\n",
    "from sklearn.tree import DecisionTreeClassifier\n",
    "from sklearn.ensemble import BaggingClassifier, RandomForestClassifier, AdaBoostClassifier, GradientBoostingClassifier\n",
    "from sklearn.svm import SVC\n",
    "from sklearn.linear_model import Perceptron\n",
    "from sklearn.neural_network import MLPClassifier\n",
    "from sklearn.metrics import f1_score, roc_curve, recall_score, accuracy_score, precision_score, plot_confusion_matrix, confusion_matrix\n",
    "from sklearn.svm import SVC\n",
    "from sklearn.model_selection import train_test_split\n",
    "from sklearn.utils import resample"
   ]
  },
  {
   "cell_type": "code",
   "execution_count": 47,
   "metadata": {},
   "outputs": [],
   "source": [
    "#Importar datasets\n",
    "df = pd.read_csv(\"../preprocessing/data_p4/trainModel_2.csv\")\n",
    "test = pd.read_csv(\"../preprocessing/data_p4/testModel_2.csv\")\n",
    "test_kaggle = pd.read_csv(\"../preprocessing/data_p3/test.csv\")"
   ]
  },
  {
   "cell_type": "code",
   "execution_count": 48,
   "metadata": {},
   "outputs": [],
   "source": [
    "def classificacio(clf, tuning=False):\n",
    "  clf.fit(df.iloc[:,:-1], df.iloc[:,-1])\n",
    "  preds = pd.Series(clf.predict(test.iloc[:,:-1]), name='preds')\n",
    "  reals = test.iloc[:,-1]\n",
    "  reals.name = 'reals'\n",
    "  reals.index = range(len(preds))\n",
    "  print('acc: ', accuracy_score(reals, preds))\n",
    "  print('rec: ', recall_score(reals,preds, pos_label=1))\n",
    "  print('prec: ',recall_score(reals,preds, pos_label=1))\n",
    "  print('f1:', f1_score(reals, preds, pos_label=1))\n",
    "  if tuning:\n",
    "    print('best pars:', clf.best_params_)\n",
    "    pd.crosstab(reals,preds)\n",
    "  return [reals,preds,clf]\n"
   ]
  },
  {
   "cell_type": "code",
   "execution_count": 49,
   "metadata": {},
   "outputs": [],
   "source": [
    "resultats1={}"
   ]
  },
  {
   "cell_type": "code",
   "execution_count": 50,
   "metadata": {},
   "outputs": [
    {
     "name": "stdout",
     "output_type": "stream",
     "text": [
      "acc:  0.7922208610430521\n",
      "rec:  0.5883424408014571\n",
      "prec:  0.5883424408014571\n",
      "f1: 0.5763225979123918\n"
     ]
    },
    {
     "data": {
      "text/html": [
       "<div>\n",
       "<style scoped>\n",
       "    .dataframe tbody tr th:only-of-type {\n",
       "        vertical-align: middle;\n",
       "    }\n",
       "\n",
       "    .dataframe tbody tr th {\n",
       "        vertical-align: top;\n",
       "    }\n",
       "\n",
       "    .dataframe thead th {\n",
       "        text-align: right;\n",
       "    }\n",
       "</style>\n",
       "<table border=\"1\" class=\"dataframe\">\n",
       "  <thead>\n",
       "    <tr style=\"text-align: right;\">\n",
       "      <th>preds</th>\n",
       "      <th>0</th>\n",
       "      <th>1</th>\n",
       "    </tr>\n",
       "    <tr>\n",
       "      <th>reals</th>\n",
       "      <th></th>\n",
       "      <th></th>\n",
       "    </tr>\n",
       "  </thead>\n",
       "  <tbody>\n",
       "    <tr>\n",
       "      <th>0</th>\n",
       "      <td>14877</td>\n",
       "      <td>2489</td>\n",
       "    </tr>\n",
       "    <tr>\n",
       "      <th>1</th>\n",
       "      <td>2260</td>\n",
       "      <td>3230</td>\n",
       "    </tr>\n",
       "  </tbody>\n",
       "</table>\n",
       "</div>"
      ],
      "text/plain": [
       "preds      0     1\n",
       "reals             \n",
       "0      14877  2489\n",
       "1       2260  3230"
      ]
     },
     "execution_count": 50,
     "metadata": {},
     "output_type": "execute_result"
    }
   ],
   "source": [
    "resultats1['RandomForestClassifier']=classificacio(GradientBoostingClassifier())\n",
    "pd.crosstab(resultats1['RandomForestClassifier'][0],resultats1['RandomForestClassifier'][1])"
   ]
  },
  {
   "cell_type": "code",
   "execution_count": 51,
   "metadata": {},
   "outputs": [],
   "source": [
    "results_kaggle = resultats1['RandomForestClassifier'][2].predict(test_kaggle)\n",
    "results_final_kaggle = pd.DataFrame()\n",
    "test_kaggle = pd.read_csv(\"../preprocessing/Raw data/test.csv\", sep =';')\n",
    "results_final_kaggle['order_id']  = test_kaggle['order_id'] \n",
    "results_final_kaggle['late_order'] = results_kaggle\n"
   ]
  },
  {
   "cell_type": "code",
   "execution_count": 52,
   "metadata": {},
   "outputs": [],
   "source": [
    "results_final_kaggle.to_csv('results_kaggle_2.csv', index=False)\n"
   ]
  }
 ],
 "metadata": {
  "kernelspec": {
   "display_name": "Python 3.9.12 64-bit",
   "language": "python",
   "name": "python3"
  },
  "language_info": {
   "codemirror_mode": {
    "name": "ipython",
    "version": 3
   },
   "file_extension": ".py",
   "mimetype": "text/x-python",
   "name": "python",
   "nbconvert_exporter": "python",
   "pygments_lexer": "ipython3",
   "version": "3.9.12"
  },
  "vscode": {
   "interpreter": {
    "hash": "c63c415ab99ec436fcb8ee002cc8458e39a88baa623caa091ec0434b54d2be80"
   }
  }
 },
 "nbformat": 4,
 "nbformat_minor": 2
}
