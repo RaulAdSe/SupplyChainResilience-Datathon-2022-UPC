{
 "cells": [
  {
   "cell_type": "code",
   "execution_count": 5,
   "metadata": {},
   "outputs": [],
   "source": [
    "from tensorflow.keras.models import Sequential\n",
    "from tensorflow.keras.layers import Dense, Activation, Dropout\n",
    "from numpy import argmax"
   ]
  },
  {
   "cell_type": "code",
   "execution_count": null,
   "metadata": {},
   "outputs": [],
   "source": [
    "x_train = dt_train_balanced.iloc[:,:-1]\n",
    "y_train = dt_train_balanced.iloc[:,-1]\n",
    "x_test = dt_test.iloc[:,:-1]\n",
    "y_test = dt_test.iloc[:,-1]"
   ]
  },
  {
   "cell_type": "code",
   "execution_count": null,
   "metadata": {},
   "outputs": [],
   "source": [
    "model = Sequential()\n",
    "model.add(Dense(20, input_dim=17, activation='relu'))\n",
    "model.add(Dropout(0.2))\n",
    "model.add(Dense(5, activation='relu'))\n",
    "model.add(Dropout(0.2))\n",
    "model.add(Dense(1, activation='sigmoid'))"
   ]
  },
  {
   "cell_type": "code",
   "execution_count": null,
   "metadata": {},
   "outputs": [],
   "source": [
    "model.compile(loss='binary_crossentropy', optimizer='adam', metrics=['accuracy'])"
   ]
  },
  {
   "cell_type": "code",
   "execution_count": null,
   "metadata": {},
   "outputs": [],
   "source": [
    "model.summary()"
   ]
  },
  {
   "cell_type": "code",
   "execution_count": null,
   "metadata": {},
   "outputs": [],
   "source": [
    "epochs=500\n",
    "batch_size=32"
   ]
  },
  {
   "cell_type": "code",
   "execution_count": null,
   "metadata": {},
   "outputs": [],
   "source": [
    "history = model.fit(x_train, y_train, epochs=epochs, batch_size=batch_size, validation_split=0.2)"
   ]
  },
  {
   "cell_type": "code",
   "execution_count": null,
   "metadata": {},
   "outputs": [],
   "source": [
    "model.evaluate(x_test, y_test)"
   ]
  },
  {
   "cell_type": "code",
   "execution_count": null,
   "metadata": {},
   "outputs": [],
   "source": [
    "preds = pd.Series(['Yes' if x>0.5 else 'No' for x in model.predict(x_test).T[0]],name='preds')\n",
    "reals = pd.Series(dt_test.iloc[:,-1],name='reals')\n",
    "reals.index=preds.index"
   ]
  },
  {
   "cell_type": "code",
   "execution_count": null,
   "metadata": {},
   "outputs": [],
   "source": [
    "accuracy_score(reals,preds)"
   ]
  },
  {
   "cell_type": "code",
   "execution_count": null,
   "metadata": {},
   "outputs": [],
   "source": [
    "pd.crosstab(reals,preds)"
   ]
  },
  {
   "cell_type": "code",
   "execution_count": null,
   "metadata": {},
   "outputs": [],
   "source": [
    "fig, (ax1, ax2) = plt.subplots(nrows=1, ncols=2, figsize = (20, 8))\n",
    "\n",
    "ax1.plot(history.history['loss'][1:])\n",
    "ax1.plot(history.history['val_loss'][1:])\n",
    "ax1.set_title('Model loss', size=20)\n",
    "ax1.set_ylabel('Loss', size=16)\n",
    "ax1.set_xlabel('Epoch', size=16)\n",
    "ax1.set_xticks(range(0, epochs+1, 25))\n",
    "ax1.legend(['Train', 'Validation'], loc='upper right')\n",
    "\n",
    "ax2.plot(history.history['accuracy'])\n",
    "ax2.plot(history.history['val_accuracy'])\n",
    "ax2.set_title('Classification accuracy', size=20)\n",
    "ax2.set_ylabel('Accuracy', size=16)\n",
    "ax2.set_xlabel('Epoch', size=16)\n",
    "ax2.set_xticks(range(0, epochs+1, 25))\n",
    "ax2.legend(['Train', 'Validation'], loc='upper left')\n",
    "\n",
    "fig.suptitle('Learning curves', size=20)\n",
    "\n",
    "plt.show()"
   ]
  }
 ],
 "metadata": {
  "kernelspec": {
   "display_name": "Python 3.9.12 64-bit",
   "language": "python",
   "name": "python3"
  },
  "language_info": {
   "codemirror_mode": {
    "name": "ipython",
    "version": 3
   },
   "file_extension": ".py",
   "mimetype": "text/x-python",
   "name": "python",
   "nbconvert_exporter": "python",
   "pygments_lexer": "ipython3",
   "version": "3.9.12"
  },
  "orig_nbformat": 4,
  "vscode": {
   "interpreter": {
    "hash": "c63c415ab99ec436fcb8ee002cc8458e39a88baa623caa091ec0434b54d2be80"
   }
  }
 },
 "nbformat": 4,
 "nbformat_minor": 2
}
