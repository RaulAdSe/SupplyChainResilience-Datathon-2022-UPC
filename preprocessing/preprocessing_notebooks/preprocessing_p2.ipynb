{
 "cells": [
  {
   "cell_type": "code",
   "execution_count": 4,
   "metadata": {},
   "outputs": [],
   "source": [
    "# Imports\n",
    "import pandas as pd"
   ]
  },
  {
   "cell_type": "code",
   "execution_count": 5,
   "metadata": {},
   "outputs": [],
   "source": [
    "# read data\n",
    "df_orders = pd.read_csv(\"../data_p1/orders.csv\")\n",
    "df_products = pd.read_csv(\"../data_p1/product_attributes.csv\")\n",
    "df_dists = pd.read_csv(\"../data_p1/cities_data.csv\")\n",
    "df_test = pd.read_csv(\"../data_p1/test.csv\")"
   ]
  },
  {
   "cell_type": "code",
   "execution_count": 6,
   "metadata": {},
   "outputs": [],
   "source": [
    "def preproc(df_orders, df_products, df_dists):\n",
    "    \n",
    "    # Join and merge distance_port_hub\n",
    "\n",
    "    df_orders = df_orders.join(df_products.set_index('product_id'), on='product_id')\n",
    "\n",
    "    df_aux = pd.merge(df_orders, df_dists,  how='left', left_on=['origin_port','logistic_hub'], right_on = ['city_from_name','city_to_name'])\n",
    "    df_aux_2 = pd.merge(df_orders, df_dists,  how='left', left_on=['origin_port','logistic_hub'], right_on = ['city_to_name','city_from_name'])\n",
    "\n",
    "    df_aux.loc[pd.isna(df_aux['distance']),'distance'] = 0\n",
    "    df_aux_2.loc[pd.isna(df_aux_2['distance']),'distance'] = 0\n",
    "\n",
    "    df_aux['distance'] = df_aux['distance'] + df_aux_2['distance']\n",
    "\n",
    "    df_aux=df_aux.drop(['city_from_name',\t'city_to_name',\t'city_from_coord',\t'city_to_coord'], axis=1)\n",
    "\n",
    "    df=df_aux.rename({'distance': 'distance_port_hub'}, axis=1)\n",
    "\n",
    "\n",
    "    # Join and merge distance_port_hub\n",
    "\n",
    "    df_aux = pd.merge(df, df_dists,  how='left', left_on=['logistic_hub','customer'], right_on = ['city_from_name','city_to_name'])\n",
    "    df_aux_2 = pd.merge(df, df_dists,  how='left', left_on=['logistic_hub','customer'], right_on = ['city_to_name','city_from_name'])\n",
    "\n",
    "\n",
    "    df_aux.loc[pd.isna(df_aux['distance']),'distance'] = 0\n",
    "    df_aux_2.loc[pd.isna(df_aux_2['distance']),'distance'] = 0\n",
    "\n",
    "\n",
    "    df_aux['distance'] = df_aux['distance'] + df_aux_2['distance']\n",
    "\n",
    "\n",
    "    df_aux=df_aux.drop(['city_from_name',\t'city_to_name',\t'city_from_coord',\t'city_to_coord'], axis=1)\n",
    "\n",
    "    df=df_aux.rename({'distance': 'distance_hub_customer'}, axis=1)\n",
    "\n",
    "\n",
    "    # Total distance\n",
    "    \n",
    "    df['distance_total'] = df['distance_port_hub'] + df['distance_hub_customer'] \n",
    "\n",
    "    return df"
   ]
  },
  {
   "cell_type": "code",
   "execution_count": 7,
   "metadata": {},
   "outputs": [
    {
     "ename": "ValueError",
     "evalue": "You are trying to merge on object and int64 columns. If you wish to proceed you should use pd.concat",
     "output_type": "error",
     "traceback": [
      "\u001b[1;31m---------------------------------------------------------------------------\u001b[0m",
      "\u001b[1;31mValueError\u001b[0m                                Traceback (most recent call last)",
      "Cell \u001b[1;32mIn [7], line 1\u001b[0m\n\u001b[1;32m----> 1\u001b[0m df_orders \u001b[39m=\u001b[39m preproc(df_orders, df_products, df_dists)\n\u001b[0;32m      3\u001b[0m df_orders[\u001b[39m'\u001b[39m\u001b[39mlate_order_1\u001b[39m\u001b[39m'\u001b[39m] \u001b[39m=\u001b[39m df_orders[\u001b[39m'\u001b[39m\u001b[39mlate_order\u001b[39m\u001b[39m'\u001b[39m]\n\u001b[0;32m      4\u001b[0m df_orders\u001b[39m=\u001b[39mdf_orders\u001b[39m.\u001b[39mdrop([\u001b[39m'\u001b[39m\u001b[39mlate_order\u001b[39m\u001b[39m'\u001b[39m],axis\u001b[39m=\u001b[39m\u001b[39m1\u001b[39m) \n",
      "Cell \u001b[1;32mIn [6], line 5\u001b[0m, in \u001b[0;36mpreproc\u001b[1;34m(df_orders, df_products, df_dists)\u001b[0m\n\u001b[0;32m      1\u001b[0m \u001b[39mdef\u001b[39;00m \u001b[39mpreproc\u001b[39m(df_orders, df_products, df_dists):\n\u001b[0;32m      2\u001b[0m     \n\u001b[0;32m      3\u001b[0m     \u001b[39m# Join and merge distance_port_hub\u001b[39;00m\n\u001b[1;32m----> 5\u001b[0m     df_orders \u001b[39m=\u001b[39m df_orders\u001b[39m.\u001b[39;49mjoin(df_products\u001b[39m.\u001b[39;49mset_index(\u001b[39m'\u001b[39;49m\u001b[39mproduct_id\u001b[39;49m\u001b[39m'\u001b[39;49m), on\u001b[39m=\u001b[39;49m\u001b[39m'\u001b[39;49m\u001b[39mproduct_id\u001b[39;49m\u001b[39m'\u001b[39;49m)\n\u001b[0;32m      7\u001b[0m     df_aux \u001b[39m=\u001b[39m pd\u001b[39m.\u001b[39mmerge(df_orders, df_dists,  how\u001b[39m=\u001b[39m\u001b[39m'\u001b[39m\u001b[39mleft\u001b[39m\u001b[39m'\u001b[39m, left_on\u001b[39m=\u001b[39m[\u001b[39m'\u001b[39m\u001b[39morigin_port\u001b[39m\u001b[39m'\u001b[39m,\u001b[39m'\u001b[39m\u001b[39mlogistic_hub\u001b[39m\u001b[39m'\u001b[39m], right_on \u001b[39m=\u001b[39m [\u001b[39m'\u001b[39m\u001b[39mcity_from_name\u001b[39m\u001b[39m'\u001b[39m,\u001b[39m'\u001b[39m\u001b[39mcity_to_name\u001b[39m\u001b[39m'\u001b[39m])\n\u001b[0;32m      8\u001b[0m     df_aux_2 \u001b[39m=\u001b[39m pd\u001b[39m.\u001b[39mmerge(df_orders, df_dists,  how\u001b[39m=\u001b[39m\u001b[39m'\u001b[39m\u001b[39mleft\u001b[39m\u001b[39m'\u001b[39m, left_on\u001b[39m=\u001b[39m[\u001b[39m'\u001b[39m\u001b[39morigin_port\u001b[39m\u001b[39m'\u001b[39m,\u001b[39m'\u001b[39m\u001b[39mlogistic_hub\u001b[39m\u001b[39m'\u001b[39m], right_on \u001b[39m=\u001b[39m [\u001b[39m'\u001b[39m\u001b[39mcity_to_name\u001b[39m\u001b[39m'\u001b[39m,\u001b[39m'\u001b[39m\u001b[39mcity_from_name\u001b[39m\u001b[39m'\u001b[39m])\n",
      "File \u001b[1;32mc:\\Users\\jordi\\AppData\\Local\\Programs\\Python\\Python311\\Lib\\site-packages\\pandas\\core\\frame.py:9966\u001b[0m, in \u001b[0;36mDataFrame.join\u001b[1;34m(self, other, on, how, lsuffix, rsuffix, sort, validate)\u001b[0m\n\u001b[0;32m   9803\u001b[0m \u001b[39mdef\u001b[39;00m \u001b[39mjoin\u001b[39m(\n\u001b[0;32m   9804\u001b[0m     \u001b[39mself\u001b[39m,\n\u001b[0;32m   9805\u001b[0m     other: DataFrame \u001b[39m|\u001b[39m Series \u001b[39m|\u001b[39m \u001b[39mlist\u001b[39m[DataFrame \u001b[39m|\u001b[39m Series],\n\u001b[1;32m   (...)\u001b[0m\n\u001b[0;32m   9811\u001b[0m     validate: \u001b[39mstr\u001b[39m \u001b[39m|\u001b[39m \u001b[39mNone\u001b[39;00m \u001b[39m=\u001b[39m \u001b[39mNone\u001b[39;00m,\n\u001b[0;32m   9812\u001b[0m ) \u001b[39m-\u001b[39m\u001b[39m>\u001b[39m DataFrame:\n\u001b[0;32m   9813\u001b[0m     \u001b[39m\"\"\"\u001b[39;00m\n\u001b[0;32m   9814\u001b[0m \u001b[39m    Join columns of another DataFrame.\u001b[39;00m\n\u001b[0;32m   9815\u001b[0m \n\u001b[1;32m   (...)\u001b[0m\n\u001b[0;32m   9964\u001b[0m \u001b[39m    5  K1  A5   B1\u001b[39;00m\n\u001b[0;32m   9965\u001b[0m \u001b[39m    \"\"\"\u001b[39;00m\n\u001b[1;32m-> 9966\u001b[0m     \u001b[39mreturn\u001b[39;00m \u001b[39mself\u001b[39;49m\u001b[39m.\u001b[39;49m_join_compat(\n\u001b[0;32m   9967\u001b[0m         other,\n\u001b[0;32m   9968\u001b[0m         on\u001b[39m=\u001b[39;49mon,\n\u001b[0;32m   9969\u001b[0m         how\u001b[39m=\u001b[39;49mhow,\n\u001b[0;32m   9970\u001b[0m         lsuffix\u001b[39m=\u001b[39;49mlsuffix,\n\u001b[0;32m   9971\u001b[0m         rsuffix\u001b[39m=\u001b[39;49mrsuffix,\n\u001b[0;32m   9972\u001b[0m         sort\u001b[39m=\u001b[39;49msort,\n\u001b[0;32m   9973\u001b[0m         validate\u001b[39m=\u001b[39;49mvalidate,\n\u001b[0;32m   9974\u001b[0m     )\n",
      "File \u001b[1;32mc:\\Users\\jordi\\AppData\\Local\\Programs\\Python\\Python311\\Lib\\site-packages\\pandas\\core\\frame.py:10005\u001b[0m, in \u001b[0;36mDataFrame._join_compat\u001b[1;34m(self, other, on, how, lsuffix, rsuffix, sort, validate)\u001b[0m\n\u001b[0;32m   9995\u001b[0m     \u001b[39mif\u001b[39;00m how \u001b[39m==\u001b[39m \u001b[39m\"\u001b[39m\u001b[39mcross\u001b[39m\u001b[39m\"\u001b[39m:\n\u001b[0;32m   9996\u001b[0m         \u001b[39mreturn\u001b[39;00m merge(\n\u001b[0;32m   9997\u001b[0m             \u001b[39mself\u001b[39m,\n\u001b[0;32m   9998\u001b[0m             other,\n\u001b[1;32m   (...)\u001b[0m\n\u001b[0;32m  10003\u001b[0m             validate\u001b[39m=\u001b[39mvalidate,\n\u001b[0;32m  10004\u001b[0m         )\n\u001b[1;32m> 10005\u001b[0m     \u001b[39mreturn\u001b[39;00m merge(\n\u001b[0;32m  10006\u001b[0m         \u001b[39mself\u001b[39;49m,\n\u001b[0;32m  10007\u001b[0m         other,\n\u001b[0;32m  10008\u001b[0m         left_on\u001b[39m=\u001b[39;49mon,\n\u001b[0;32m  10009\u001b[0m         how\u001b[39m=\u001b[39;49mhow,\n\u001b[0;32m  10010\u001b[0m         left_index\u001b[39m=\u001b[39;49mon \u001b[39mis\u001b[39;49;00m \u001b[39mNone\u001b[39;49;00m,\n\u001b[0;32m  10011\u001b[0m         right_index\u001b[39m=\u001b[39;49m\u001b[39mTrue\u001b[39;49;00m,\n\u001b[0;32m  10012\u001b[0m         suffixes\u001b[39m=\u001b[39;49m(lsuffix, rsuffix),\n\u001b[0;32m  10013\u001b[0m         sort\u001b[39m=\u001b[39;49msort,\n\u001b[0;32m  10014\u001b[0m         validate\u001b[39m=\u001b[39;49mvalidate,\n\u001b[0;32m  10015\u001b[0m     )\n\u001b[0;32m  10016\u001b[0m \u001b[39melse\u001b[39;00m:\n\u001b[0;32m  10017\u001b[0m     \u001b[39mif\u001b[39;00m on \u001b[39mis\u001b[39;00m \u001b[39mnot\u001b[39;00m \u001b[39mNone\u001b[39;00m:\n",
      "File \u001b[1;32mc:\\Users\\jordi\\AppData\\Local\\Programs\\Python\\Python311\\Lib\\site-packages\\pandas\\core\\reshape\\merge.py:110\u001b[0m, in \u001b[0;36mmerge\u001b[1;34m(left, right, how, on, left_on, right_on, left_index, right_index, sort, suffixes, copy, indicator, validate)\u001b[0m\n\u001b[0;32m     93\u001b[0m \u001b[39m@Substitution\u001b[39m(\u001b[39m\"\u001b[39m\u001b[39m\\n\u001b[39;00m\u001b[39mleft : DataFrame or named Series\u001b[39m\u001b[39m\"\u001b[39m)\n\u001b[0;32m     94\u001b[0m \u001b[39m@Appender\u001b[39m(_merge_doc, indents\u001b[39m=\u001b[39m\u001b[39m0\u001b[39m)\n\u001b[0;32m     95\u001b[0m \u001b[39mdef\u001b[39;00m \u001b[39mmerge\u001b[39m(\n\u001b[1;32m   (...)\u001b[0m\n\u001b[0;32m    108\u001b[0m     validate: \u001b[39mstr\u001b[39m \u001b[39m|\u001b[39m \u001b[39mNone\u001b[39;00m \u001b[39m=\u001b[39m \u001b[39mNone\u001b[39;00m,\n\u001b[0;32m    109\u001b[0m ) \u001b[39m-\u001b[39m\u001b[39m>\u001b[39m DataFrame:\n\u001b[1;32m--> 110\u001b[0m     op \u001b[39m=\u001b[39m _MergeOperation(\n\u001b[0;32m    111\u001b[0m         left,\n\u001b[0;32m    112\u001b[0m         right,\n\u001b[0;32m    113\u001b[0m         how\u001b[39m=\u001b[39;49mhow,\n\u001b[0;32m    114\u001b[0m         on\u001b[39m=\u001b[39;49mon,\n\u001b[0;32m    115\u001b[0m         left_on\u001b[39m=\u001b[39;49mleft_on,\n\u001b[0;32m    116\u001b[0m         right_on\u001b[39m=\u001b[39;49mright_on,\n\u001b[0;32m    117\u001b[0m         left_index\u001b[39m=\u001b[39;49mleft_index,\n\u001b[0;32m    118\u001b[0m         right_index\u001b[39m=\u001b[39;49mright_index,\n\u001b[0;32m    119\u001b[0m         sort\u001b[39m=\u001b[39;49msort,\n\u001b[0;32m    120\u001b[0m         suffixes\u001b[39m=\u001b[39;49msuffixes,\n\u001b[0;32m    121\u001b[0m         indicator\u001b[39m=\u001b[39;49mindicator,\n\u001b[0;32m    122\u001b[0m         validate\u001b[39m=\u001b[39;49mvalidate,\n\u001b[0;32m    123\u001b[0m     )\n\u001b[0;32m    124\u001b[0m     \u001b[39mreturn\u001b[39;00m op\u001b[39m.\u001b[39mget_result(copy\u001b[39m=\u001b[39mcopy)\n",
      "File \u001b[1;32mc:\\Users\\jordi\\AppData\\Local\\Programs\\Python\\Python311\\Lib\\site-packages\\pandas\\core\\reshape\\merge.py:707\u001b[0m, in \u001b[0;36m_MergeOperation.__init__\u001b[1;34m(self, left, right, how, on, left_on, right_on, axis, left_index, right_index, sort, suffixes, indicator, validate)\u001b[0m\n\u001b[0;32m    699\u001b[0m (\n\u001b[0;32m    700\u001b[0m     \u001b[39mself\u001b[39m\u001b[39m.\u001b[39mleft_join_keys,\n\u001b[0;32m    701\u001b[0m     \u001b[39mself\u001b[39m\u001b[39m.\u001b[39mright_join_keys,\n\u001b[0;32m    702\u001b[0m     \u001b[39mself\u001b[39m\u001b[39m.\u001b[39mjoin_names,\n\u001b[0;32m    703\u001b[0m ) \u001b[39m=\u001b[39m \u001b[39mself\u001b[39m\u001b[39m.\u001b[39m_get_merge_keys()\n\u001b[0;32m    705\u001b[0m \u001b[39m# validate the merge keys dtypes. We may need to coerce\u001b[39;00m\n\u001b[0;32m    706\u001b[0m \u001b[39m# to avoid incompatible dtypes\u001b[39;00m\n\u001b[1;32m--> 707\u001b[0m \u001b[39mself\u001b[39;49m\u001b[39m.\u001b[39;49m_maybe_coerce_merge_keys()\n\u001b[0;32m    709\u001b[0m \u001b[39m# If argument passed to validate,\u001b[39;00m\n\u001b[0;32m    710\u001b[0m \u001b[39m# check if columns specified as unique\u001b[39;00m\n\u001b[0;32m    711\u001b[0m \u001b[39m# are in fact unique.\u001b[39;00m\n\u001b[0;32m    712\u001b[0m \u001b[39mif\u001b[39;00m validate \u001b[39mis\u001b[39;00m \u001b[39mnot\u001b[39;00m \u001b[39mNone\u001b[39;00m:\n",
      "File \u001b[1;32mc:\\Users\\jordi\\AppData\\Local\\Programs\\Python\\Python311\\Lib\\site-packages\\pandas\\core\\reshape\\merge.py:1340\u001b[0m, in \u001b[0;36m_MergeOperation._maybe_coerce_merge_keys\u001b[1;34m(self)\u001b[0m\n\u001b[0;32m   1334\u001b[0m     \u001b[39m# unless we are merging non-string-like with string-like\u001b[39;00m\n\u001b[0;32m   1335\u001b[0m     \u001b[39melif\u001b[39;00m (\n\u001b[0;32m   1336\u001b[0m         inferred_left \u001b[39min\u001b[39;00m string_types \u001b[39mand\u001b[39;00m inferred_right \u001b[39mnot\u001b[39;00m \u001b[39min\u001b[39;00m string_types\n\u001b[0;32m   1337\u001b[0m     ) \u001b[39mor\u001b[39;00m (\n\u001b[0;32m   1338\u001b[0m         inferred_right \u001b[39min\u001b[39;00m string_types \u001b[39mand\u001b[39;00m inferred_left \u001b[39mnot\u001b[39;00m \u001b[39min\u001b[39;00m string_types\n\u001b[0;32m   1339\u001b[0m     ):\n\u001b[1;32m-> 1340\u001b[0m         \u001b[39mraise\u001b[39;00m \u001b[39mValueError\u001b[39;00m(msg)\n\u001b[0;32m   1342\u001b[0m \u001b[39m# datetimelikes must match exactly\u001b[39;00m\n\u001b[0;32m   1343\u001b[0m \u001b[39melif\u001b[39;00m needs_i8_conversion(lk\u001b[39m.\u001b[39mdtype) \u001b[39mand\u001b[39;00m \u001b[39mnot\u001b[39;00m needs_i8_conversion(rk\u001b[39m.\u001b[39mdtype):\n",
      "\u001b[1;31mValueError\u001b[0m: You are trying to merge on object and int64 columns. If you wish to proceed you should use pd.concat"
     ]
    }
   ],
   "source": [
    "df_orders = preproc(df_orders, df_products, df_dists)\n",
    "\n",
    "df_orders['late_order_1'] = df_orders['late_order']\n",
    "df_orders=df_orders.drop(['late_order'],axis=1) \n",
    "df_orders['late_order'] = df_orders['late_order_1']\n",
    "df_orders=df_orders.drop(['late_order_1'],axis=1)"
   ]
  },
  {
   "cell_type": "code",
   "execution_count": null,
   "metadata": {},
   "outputs": [],
   "source": [
    "df_test = preproc(df_test, df_products, df_dists)"
   ]
  },
  {
   "cell_type": "code",
   "execution_count": null,
   "metadata": {},
   "outputs": [],
   "source": [
    "# Save\n",
    "df_orders.to_csv('../data_p2/df_orders.csv', index=False) \n",
    "\n",
    "df_test.to_csv('../data_p2/df_test.csv', index=False)"
   ]
  },
  {
   "cell_type": "code",
   "execution_count": 8,
   "metadata": {},
   "outputs": [
    {
     "ename": "ValueError",
     "evalue": "You are trying to merge on object and int64 columns. If you wish to proceed you should use pd.concat",
     "output_type": "error",
     "traceback": [
      "\u001b[1;31m---------------------------------------------------------------------------\u001b[0m",
      "\u001b[1;31mValueError\u001b[0m                                Traceback (most recent call last)",
      "Cell \u001b[1;32mIn [8], line 1\u001b[0m\n\u001b[1;32m----> 1\u001b[0m df_orders \u001b[39m=\u001b[39m df_orders\u001b[39m.\u001b[39;49mjoin(df_products\u001b[39m.\u001b[39;49mset_index(\u001b[39m'\u001b[39;49m\u001b[39mproduct_id\u001b[39;49m\u001b[39m'\u001b[39;49m), on\u001b[39m=\u001b[39;49m\u001b[39m'\u001b[39;49m\u001b[39mproduct_id\u001b[39;49m\u001b[39m'\u001b[39;49m)\n\u001b[0;32m      3\u001b[0m df_aux \u001b[39m=\u001b[39m pd\u001b[39m.\u001b[39mmerge(df_orders, df_dists,  how\u001b[39m=\u001b[39m\u001b[39m'\u001b[39m\u001b[39mleft\u001b[39m\u001b[39m'\u001b[39m, left_on\u001b[39m=\u001b[39m[\u001b[39m'\u001b[39m\u001b[39morigin_port\u001b[39m\u001b[39m'\u001b[39m,\u001b[39m'\u001b[39m\u001b[39mlogistic_hub\u001b[39m\u001b[39m'\u001b[39m], right_on \u001b[39m=\u001b[39m [\u001b[39m'\u001b[39m\u001b[39mcity_from_name\u001b[39m\u001b[39m'\u001b[39m,\u001b[39m'\u001b[39m\u001b[39mcity_to_name\u001b[39m\u001b[39m'\u001b[39m])\n\u001b[0;32m      4\u001b[0m df_aux_2 \u001b[39m=\u001b[39m pd\u001b[39m.\u001b[39mmerge(df_orders, df_dists,  how\u001b[39m=\u001b[39m\u001b[39m'\u001b[39m\u001b[39mleft\u001b[39m\u001b[39m'\u001b[39m, left_on\u001b[39m=\u001b[39m[\u001b[39m'\u001b[39m\u001b[39morigin_port\u001b[39m\u001b[39m'\u001b[39m,\u001b[39m'\u001b[39m\u001b[39mlogistic_hub\u001b[39m\u001b[39m'\u001b[39m], right_on \u001b[39m=\u001b[39m [\u001b[39m'\u001b[39m\u001b[39mcity_to_name\u001b[39m\u001b[39m'\u001b[39m,\u001b[39m'\u001b[39m\u001b[39mcity_from_name\u001b[39m\u001b[39m'\u001b[39m])\n",
      "File \u001b[1;32mc:\\Users\\jordi\\AppData\\Local\\Programs\\Python\\Python311\\Lib\\site-packages\\pandas\\core\\frame.py:9966\u001b[0m, in \u001b[0;36mDataFrame.join\u001b[1;34m(self, other, on, how, lsuffix, rsuffix, sort, validate)\u001b[0m\n\u001b[0;32m   9803\u001b[0m \u001b[39mdef\u001b[39;00m \u001b[39mjoin\u001b[39m(\n\u001b[0;32m   9804\u001b[0m     \u001b[39mself\u001b[39m,\n\u001b[0;32m   9805\u001b[0m     other: DataFrame \u001b[39m|\u001b[39m Series \u001b[39m|\u001b[39m \u001b[39mlist\u001b[39m[DataFrame \u001b[39m|\u001b[39m Series],\n\u001b[1;32m   (...)\u001b[0m\n\u001b[0;32m   9811\u001b[0m     validate: \u001b[39mstr\u001b[39m \u001b[39m|\u001b[39m \u001b[39mNone\u001b[39;00m \u001b[39m=\u001b[39m \u001b[39mNone\u001b[39;00m,\n\u001b[0;32m   9812\u001b[0m ) \u001b[39m-\u001b[39m\u001b[39m>\u001b[39m DataFrame:\n\u001b[0;32m   9813\u001b[0m     \u001b[39m\"\"\"\u001b[39;00m\n\u001b[0;32m   9814\u001b[0m \u001b[39m    Join columns of another DataFrame.\u001b[39;00m\n\u001b[0;32m   9815\u001b[0m \n\u001b[1;32m   (...)\u001b[0m\n\u001b[0;32m   9964\u001b[0m \u001b[39m    5  K1  A5   B1\u001b[39;00m\n\u001b[0;32m   9965\u001b[0m \u001b[39m    \"\"\"\u001b[39;00m\n\u001b[1;32m-> 9966\u001b[0m     \u001b[39mreturn\u001b[39;00m \u001b[39mself\u001b[39;49m\u001b[39m.\u001b[39;49m_join_compat(\n\u001b[0;32m   9967\u001b[0m         other,\n\u001b[0;32m   9968\u001b[0m         on\u001b[39m=\u001b[39;49mon,\n\u001b[0;32m   9969\u001b[0m         how\u001b[39m=\u001b[39;49mhow,\n\u001b[0;32m   9970\u001b[0m         lsuffix\u001b[39m=\u001b[39;49mlsuffix,\n\u001b[0;32m   9971\u001b[0m         rsuffix\u001b[39m=\u001b[39;49mrsuffix,\n\u001b[0;32m   9972\u001b[0m         sort\u001b[39m=\u001b[39;49msort,\n\u001b[0;32m   9973\u001b[0m         validate\u001b[39m=\u001b[39;49mvalidate,\n\u001b[0;32m   9974\u001b[0m     )\n",
      "File \u001b[1;32mc:\\Users\\jordi\\AppData\\Local\\Programs\\Python\\Python311\\Lib\\site-packages\\pandas\\core\\frame.py:10005\u001b[0m, in \u001b[0;36mDataFrame._join_compat\u001b[1;34m(self, other, on, how, lsuffix, rsuffix, sort, validate)\u001b[0m\n\u001b[0;32m   9995\u001b[0m     \u001b[39mif\u001b[39;00m how \u001b[39m==\u001b[39m \u001b[39m\"\u001b[39m\u001b[39mcross\u001b[39m\u001b[39m\"\u001b[39m:\n\u001b[0;32m   9996\u001b[0m         \u001b[39mreturn\u001b[39;00m merge(\n\u001b[0;32m   9997\u001b[0m             \u001b[39mself\u001b[39m,\n\u001b[0;32m   9998\u001b[0m             other,\n\u001b[1;32m   (...)\u001b[0m\n\u001b[0;32m  10003\u001b[0m             validate\u001b[39m=\u001b[39mvalidate,\n\u001b[0;32m  10004\u001b[0m         )\n\u001b[1;32m> 10005\u001b[0m     \u001b[39mreturn\u001b[39;00m merge(\n\u001b[0;32m  10006\u001b[0m         \u001b[39mself\u001b[39;49m,\n\u001b[0;32m  10007\u001b[0m         other,\n\u001b[0;32m  10008\u001b[0m         left_on\u001b[39m=\u001b[39;49mon,\n\u001b[0;32m  10009\u001b[0m         how\u001b[39m=\u001b[39;49mhow,\n\u001b[0;32m  10010\u001b[0m         left_index\u001b[39m=\u001b[39;49mon \u001b[39mis\u001b[39;49;00m \u001b[39mNone\u001b[39;49;00m,\n\u001b[0;32m  10011\u001b[0m         right_index\u001b[39m=\u001b[39;49m\u001b[39mTrue\u001b[39;49;00m,\n\u001b[0;32m  10012\u001b[0m         suffixes\u001b[39m=\u001b[39;49m(lsuffix, rsuffix),\n\u001b[0;32m  10013\u001b[0m         sort\u001b[39m=\u001b[39;49msort,\n\u001b[0;32m  10014\u001b[0m         validate\u001b[39m=\u001b[39;49mvalidate,\n\u001b[0;32m  10015\u001b[0m     )\n\u001b[0;32m  10016\u001b[0m \u001b[39melse\u001b[39;00m:\n\u001b[0;32m  10017\u001b[0m     \u001b[39mif\u001b[39;00m on \u001b[39mis\u001b[39;00m \u001b[39mnot\u001b[39;00m \u001b[39mNone\u001b[39;00m:\n",
      "File \u001b[1;32mc:\\Users\\jordi\\AppData\\Local\\Programs\\Python\\Python311\\Lib\\site-packages\\pandas\\core\\reshape\\merge.py:110\u001b[0m, in \u001b[0;36mmerge\u001b[1;34m(left, right, how, on, left_on, right_on, left_index, right_index, sort, suffixes, copy, indicator, validate)\u001b[0m\n\u001b[0;32m     93\u001b[0m \u001b[39m@Substitution\u001b[39m(\u001b[39m\"\u001b[39m\u001b[39m\\n\u001b[39;00m\u001b[39mleft : DataFrame or named Series\u001b[39m\u001b[39m\"\u001b[39m)\n\u001b[0;32m     94\u001b[0m \u001b[39m@Appender\u001b[39m(_merge_doc, indents\u001b[39m=\u001b[39m\u001b[39m0\u001b[39m)\n\u001b[0;32m     95\u001b[0m \u001b[39mdef\u001b[39;00m \u001b[39mmerge\u001b[39m(\n\u001b[1;32m   (...)\u001b[0m\n\u001b[0;32m    108\u001b[0m     validate: \u001b[39mstr\u001b[39m \u001b[39m|\u001b[39m \u001b[39mNone\u001b[39;00m \u001b[39m=\u001b[39m \u001b[39mNone\u001b[39;00m,\n\u001b[0;32m    109\u001b[0m ) \u001b[39m-\u001b[39m\u001b[39m>\u001b[39m DataFrame:\n\u001b[1;32m--> 110\u001b[0m     op \u001b[39m=\u001b[39m _MergeOperation(\n\u001b[0;32m    111\u001b[0m         left,\n\u001b[0;32m    112\u001b[0m         right,\n\u001b[0;32m    113\u001b[0m         how\u001b[39m=\u001b[39;49mhow,\n\u001b[0;32m    114\u001b[0m         on\u001b[39m=\u001b[39;49mon,\n\u001b[0;32m    115\u001b[0m         left_on\u001b[39m=\u001b[39;49mleft_on,\n\u001b[0;32m    116\u001b[0m         right_on\u001b[39m=\u001b[39;49mright_on,\n\u001b[0;32m    117\u001b[0m         left_index\u001b[39m=\u001b[39;49mleft_index,\n\u001b[0;32m    118\u001b[0m         right_index\u001b[39m=\u001b[39;49mright_index,\n\u001b[0;32m    119\u001b[0m         sort\u001b[39m=\u001b[39;49msort,\n\u001b[0;32m    120\u001b[0m         suffixes\u001b[39m=\u001b[39;49msuffixes,\n\u001b[0;32m    121\u001b[0m         indicator\u001b[39m=\u001b[39;49mindicator,\n\u001b[0;32m    122\u001b[0m         validate\u001b[39m=\u001b[39;49mvalidate,\n\u001b[0;32m    123\u001b[0m     )\n\u001b[0;32m    124\u001b[0m     \u001b[39mreturn\u001b[39;00m op\u001b[39m.\u001b[39mget_result(copy\u001b[39m=\u001b[39mcopy)\n",
      "File \u001b[1;32mc:\\Users\\jordi\\AppData\\Local\\Programs\\Python\\Python311\\Lib\\site-packages\\pandas\\core\\reshape\\merge.py:707\u001b[0m, in \u001b[0;36m_MergeOperation.__init__\u001b[1;34m(self, left, right, how, on, left_on, right_on, axis, left_index, right_index, sort, suffixes, indicator, validate)\u001b[0m\n\u001b[0;32m    699\u001b[0m (\n\u001b[0;32m    700\u001b[0m     \u001b[39mself\u001b[39m\u001b[39m.\u001b[39mleft_join_keys,\n\u001b[0;32m    701\u001b[0m     \u001b[39mself\u001b[39m\u001b[39m.\u001b[39mright_join_keys,\n\u001b[0;32m    702\u001b[0m     \u001b[39mself\u001b[39m\u001b[39m.\u001b[39mjoin_names,\n\u001b[0;32m    703\u001b[0m ) \u001b[39m=\u001b[39m \u001b[39mself\u001b[39m\u001b[39m.\u001b[39m_get_merge_keys()\n\u001b[0;32m    705\u001b[0m \u001b[39m# validate the merge keys dtypes. We may need to coerce\u001b[39;00m\n\u001b[0;32m    706\u001b[0m \u001b[39m# to avoid incompatible dtypes\u001b[39;00m\n\u001b[1;32m--> 707\u001b[0m \u001b[39mself\u001b[39;49m\u001b[39m.\u001b[39;49m_maybe_coerce_merge_keys()\n\u001b[0;32m    709\u001b[0m \u001b[39m# If argument passed to validate,\u001b[39;00m\n\u001b[0;32m    710\u001b[0m \u001b[39m# check if columns specified as unique\u001b[39;00m\n\u001b[0;32m    711\u001b[0m \u001b[39m# are in fact unique.\u001b[39;00m\n\u001b[0;32m    712\u001b[0m \u001b[39mif\u001b[39;00m validate \u001b[39mis\u001b[39;00m \u001b[39mnot\u001b[39;00m \u001b[39mNone\u001b[39;00m:\n",
      "File \u001b[1;32mc:\\Users\\jordi\\AppData\\Local\\Programs\\Python\\Python311\\Lib\\site-packages\\pandas\\core\\reshape\\merge.py:1340\u001b[0m, in \u001b[0;36m_MergeOperation._maybe_coerce_merge_keys\u001b[1;34m(self)\u001b[0m\n\u001b[0;32m   1334\u001b[0m     \u001b[39m# unless we are merging non-string-like with string-like\u001b[39;00m\n\u001b[0;32m   1335\u001b[0m     \u001b[39melif\u001b[39;00m (\n\u001b[0;32m   1336\u001b[0m         inferred_left \u001b[39min\u001b[39;00m string_types \u001b[39mand\u001b[39;00m inferred_right \u001b[39mnot\u001b[39;00m \u001b[39min\u001b[39;00m string_types\n\u001b[0;32m   1337\u001b[0m     ) \u001b[39mor\u001b[39;00m (\n\u001b[0;32m   1338\u001b[0m         inferred_right \u001b[39min\u001b[39;00m string_types \u001b[39mand\u001b[39;00m inferred_left \u001b[39mnot\u001b[39;00m \u001b[39min\u001b[39;00m string_types\n\u001b[0;32m   1339\u001b[0m     ):\n\u001b[1;32m-> 1340\u001b[0m         \u001b[39mraise\u001b[39;00m \u001b[39mValueError\u001b[39;00m(msg)\n\u001b[0;32m   1342\u001b[0m \u001b[39m# datetimelikes must match exactly\u001b[39;00m\n\u001b[0;32m   1343\u001b[0m \u001b[39melif\u001b[39;00m needs_i8_conversion(lk\u001b[39m.\u001b[39mdtype) \u001b[39mand\u001b[39;00m \u001b[39mnot\u001b[39;00m needs_i8_conversion(rk\u001b[39m.\u001b[39mdtype):\n",
      "\u001b[1;31mValueError\u001b[0m: You are trying to merge on object and int64 columns. If you wish to proceed you should use pd.concat"
     ]
    }
   ],
   "source": [
    "df_orders = df_orders.join(df_products.set_index('product_id'), on='product_id')\n",
    "\n",
    "df_aux = pd.merge(df_orders, df_dists,  how='left', left_on=['origin_port','logistic_hub'], right_on = ['city_from_name','city_to_name'])\n",
    "df_aux_2 = pd.merge(df_orders, df_dists,  how='left', left_on=['origin_port','logistic_hub'], right_on = ['city_to_name','city_from_name'])\n",
    "\n",
    "\n",
    "df_aux.loc[pd.isna(df_aux['distance']),'distance'] = 0\n",
    "df_aux_2.loc[pd.isna(df_aux_2['distance']),'distance'] = 0\n",
    "\n",
    "\n",
    "df_aux['distance'] = df_aux['distance'] + df_aux_2['distance']\n",
    "\n",
    "\n",
    "df_aux=df_aux.drop(['city_from_name',\t'city_to_name',\t'city_from_coord',\t'city_to_coord'], axis=1)\n",
    "\n",
    "df=df_aux.rename({'distance': 'distance_port_hub'}, axis=1)\n",
    "\n",
    "\n",
    "df_aux = pd.merge(df, df_dists,  how='left', left_on=['logistic_hub','customer'], right_on = ['city_from_name','city_to_name'])\n",
    "df_aux_2 = pd.merge(df, df_dists,  how='left', left_on=['logistic_hub','customer'], right_on = ['city_to_name','city_from_name'])\n",
    "\n",
    "\n",
    "df_aux.loc[pd.isna(df_aux['distance']),'distance'] = 0\n",
    "df_aux_2.loc[pd.isna(df_aux_2['distance']),'distance'] = 0\n",
    "\n",
    "\n",
    "df_aux['distance'] = df_aux['distance'] + df_aux_2['distance']\n",
    "\n",
    "\n",
    "df_aux=df_aux.drop(['city_from_name',\t'city_to_name',\t'city_from_coord',\t'city_to_coord'], axis=1)\n",
    "\n",
    "df=df_aux.rename({'distance': 'distance_hub_customer'}, axis=1)\n",
    "\n",
    "\n",
    "df['distance_total'] = df['distance_port_hub'] + df['distance_hub_customer'] \n",
    "\n",
    "\n",
    "df['late_order_1'] = df['late_order']\n",
    "df=df.drop(['late_order'],axis=1) \n",
    "df['late_order'] = df['late_order_1']\n",
    "df=df.drop(['late_order_1'],axis=1)\n",
    "\n",
    "\n",
    "\n",
    "df.to_csv('df_joined.csv', index=False)  \n",
    "df.to_csv('df_joined.xlsx', index=False)  "
   ]
  },
  {
   "cell_type": "code",
   "execution_count": 5,
   "metadata": {},
   "outputs": [],
   "source": [
    "df_test = df_test.join(df_products.set_index('product_id'), on='product_id')\n",
    "\n",
    "df_aux = pd.merge(df_test, df_dists,  how='left', left_on=['origin_port','logistic_hub'], right_on = ['city_from_name','city_to_name'])\n",
    "df_aux_2 = pd.merge(df_test, df_dists,  how='left', left_on=['origin_port','logistic_hub'], right_on = ['city_to_name','city_from_name'])\n",
    "\n",
    "\n",
    "df_aux.loc[pd.isna(df_aux['distance']),'distance'] = 0\n",
    "df_aux_2.loc[pd.isna(df_aux_2['distance']),'distance'] = 0\n",
    "\n",
    "\n",
    "df_aux['distance'] = df_aux['distance'] + df_aux_2['distance']\n",
    "\n",
    "\n",
    "df_aux=df_aux.drop(['city_from_name',\t'city_to_name',\t'city_from_coord',\t'city_to_coord'], axis=1)\n",
    "\n",
    "df=df_aux.rename({'distance': 'distance_port_hub'}, axis=1)\n",
    "\n",
    "\n",
    "df_aux = pd.merge(df, df_dists,  how='left', left_on=['logistic_hub','customer'], right_on = ['city_from_name','city_to_name'])\n",
    "df_aux_2 = pd.merge(df, df_dists,  how='left', left_on=['logistic_hub','customer'], right_on = ['city_to_name','city_from_name'])\n",
    "\n",
    "\n",
    "df_aux.loc[pd.isna(df_aux['distance']),'distance'] = 0\n",
    "df_aux_2.loc[pd.isna(df_aux_2['distance']),'distance'] = 0\n",
    "\n",
    "\n",
    "df_aux['distance'] = df_aux['distance'] + df_aux_2['distance']\n",
    "\n",
    "\n",
    "df_aux=df_aux.drop(['city_from_name',\t'city_to_name',\t'city_from_coord',\t'city_to_coord'], axis=1)\n",
    "\n",
    "df=df_aux.rename({'distance': 'distance_hub_customer'}, axis=1)\n",
    "\n",
    "\n",
    "df['distance_total'] = df['distance_port_hub'] + df['distance_hub_customer'] \n",
    "\n",
    "\n",
    "\n",
    "\n",
    "df.to_csv('df_test.csv', index=False)  \n",
    "df.to_csv('df_test.xlsx', index=False)  "
   ]
  }
 ],
 "metadata": {
  "kernelspec": {
   "display_name": "Python 3.11.0 64-bit",
   "language": "python",
   "name": "python3"
  },
  "language_info": {
   "codemirror_mode": {
    "name": "ipython",
    "version": 3
   },
   "file_extension": ".py",
   "mimetype": "text/x-python",
   "name": "python",
   "nbconvert_exporter": "python",
   "pygments_lexer": "ipython3",
   "version": "3.11.0"
  },
  "orig_nbformat": 4,
  "vscode": {
   "interpreter": {
    "hash": "7fbab83165241200a1dfea36fa37705a580cccf132db728c31e14916dd46bfac"
   }
  }
 },
 "nbformat": 4,
 "nbformat_minor": 2
}
