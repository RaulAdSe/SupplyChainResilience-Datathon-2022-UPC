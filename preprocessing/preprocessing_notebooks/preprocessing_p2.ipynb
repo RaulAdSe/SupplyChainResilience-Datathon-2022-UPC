{
 "cells": [
  {
   "cell_type": "code",
   "execution_count": 4,
   "metadata": {},
   "outputs": [],
   "source": [
    "# Imports\n",
    "import pandas as pd"
   ]
  },
  {
   "cell_type": "code",
   "execution_count": 24,
   "metadata": {},
   "outputs": [],
   "source": [
    "# read data\n",
    "df_orders = pd.read_csv(\"../data_p1/orders.csv\")\n",
    "df_products = pd.read_csv(\"../data_p1/product_attributes.csv\")\n",
    "df_dists = pd.read_csv(\"../data_p1/cities_data.csv\",sep=';')\n",
    "df_test = pd.read_csv(\"../data_p1/test.csv\")"
   ]
  },
  {
   "cell_type": "code",
   "execution_count": 28,
   "metadata": {},
   "outputs": [],
   "source": [
    "def preproc(df_orders, df_products, df_dists):\n",
    "    \n",
    "    # Join and merge distance_port_hub\n",
    "\n",
    "    df_orders = df_orders.join(df_products.set_index('product_id'), on='product_id')\n",
    "\n",
    "    df_aux = pd.merge(df_orders, df_dists,  how='left', left_on=['origin_port','logistic_hub'], right_on = ['city_from_name','city_to_name'])\n",
    "\n",
    "    df_aux=df_aux.drop(['city_from_name',\t'city_to_name'], axis=1)\n",
    "\n",
    "    df=df_aux.rename({'distance': 'distance_port_hub'}, axis=1)\n",
    "\n",
    "\n",
    "    # Join and merge distance_port_hub\n",
    "\n",
    "    df_aux = pd.merge(df, df_dists,  how='left', left_on=['logistic_hub','customer'], right_on = ['city_from_name','city_to_name'])\n",
    "\n",
    "    df_aux=df_aux.drop(['city_from_name',\t'city_to_name',\t'city_from_coord',\t'city_to_coord'], axis=1)\n",
    "\n",
    "    df=df_aux.rename({'distance': 'distance_hub_customer'}, axis=1)\n",
    "\n",
    "\n",
    "    # Total distance\n",
    "    \n",
    "    df['distance_total'] = df['distance_port_hub'] + df['distance_hub_customer']\n",
    "\n",
    "    return df"
   ]
  },
  {
   "cell_type": "code",
   "execution_count": 29,
   "metadata": {},
   "outputs": [],
   "source": [
    "#Orders\n",
    "\n",
    "df_orders = preproc(df_orders, df_products, df_dists)\n",
    "\n",
    "df_orders.loc[df_orders['weight'].isna(),'weight'] = 1303"
   ]
  },
  {
   "cell_type": "code",
   "execution_count": 30,
   "metadata": {},
   "outputs": [],
   "source": [
    "# Test\n",
    "\n",
    "df_test = preproc(df_test, df_products, df_dists)\n",
    "\n",
    "df_test.loc[df_test['weight'].isna(),'weight'] = 1303"
   ]
  },
  {
   "cell_type": "code",
   "execution_count": null,
   "metadata": {},
   "outputs": [],
   "source": [
    "# add variables\n",
    "direct shippment"
   ]
  },
  {
   "cell_type": "code",
   "execution_count": null,
   "metadata": {},
   "outputs": [],
   "source": [
    "# Save\n",
    "\n",
    "df_orders.to_csv('../data_p2/df_orders.csv', index=False) \n",
    "\n",
    "df_test.to_csv('../data_p2/df_test.csv', index=False)"
   ]
  }
 ],
 "metadata": {
  "kernelspec": {
   "display_name": "Python 3.11.0 64-bit",
   "language": "python",
   "name": "python3"
  },
  "language_info": {
   "codemirror_mode": {
    "name": "ipython",
    "version": 3
   },
   "file_extension": ".py",
   "mimetype": "text/x-python",
   "name": "python",
   "nbconvert_exporter": "python",
   "pygments_lexer": "ipython3",
   "version": "3.11.0"
  },
  "orig_nbformat": 4,
  "vscode": {
   "interpreter": {
    "hash": "7fbab83165241200a1dfea36fa37705a580cccf132db728c31e14916dd46bfac"
   }
  }
 },
 "nbformat": 4,
 "nbformat_minor": 2
}
