{
 "cells": [
  {
   "cell_type": "code",
   "execution_count": null,
   "id": "1ae3e50b",
   "metadata": {},
   "outputs": [],
   "source": [
    "import pandas as pd\n",
    "import numpy as np"
   ]
  },
  {
   "cell_type": "code",
   "execution_count": null,
   "id": "2f038589",
   "metadata": {},
   "outputs": [],
   "source": [
    "# Load Data\n",
    "df_orders = pd.read_csv(\"../data_p2/orders.csv\", sep=\";\")\n",
    "df_test = pd.read_csv(\"../data_p2/test.csv\", sep=\";\")"
   ]
  },
  {
   "cell_type": "code",
   "execution_count": null,
   "id": "69535672",
   "metadata": {},
   "outputs": [],
   "source": [
    "# Clean df dataset\n",
    "\n",
    "df=df.drop(['product_id','order_id'],axis=1)\n",
    "df = df.dropna()\n",
    "\n",
    "df = pd.get_dummies(df, columns=['origin_port', 'X3pl', 'customs_procedures', 'logistic_hub', 'customer', 'material_handling'])\n",
    "\n",
    "df['late_order']=df['late_order'].astype(int)\n",
    "\n",
    "df['late_order_t'] = df['late_order']\n",
    "df=df.drop(['late_order'],axis=1)"
   ]
  },
  {
   "cell_type": "code",
   "execution_count": null,
   "id": "cab2a662",
   "metadata": {},
   "outputs": [],
   "source": [
    "# Clean test dataset\n",
    "df_test = test_kaggle.drop(['product_id','order_id'],axis=1)\n",
    "# test_kaggle = test_kaggle.dropna()\n",
    "test_kaggle.loc[test_kaggle['weight'].isna(),'weight']=1303\n",
    "\n",
    "test_kaggle = pd.get_dummies(test_kaggle, columns=['origin_port', 'X3pl', 'customs_procedures', 'logistic_hub', 'customer', 'material_handling'])\n"
   ]
  }
 ],
 "metadata": {
  "kernelspec": {
   "display_name": "Python 3 (ipykernel)",
   "language": "python",
   "name": "python3"
  },
  "language_info": {
   "codemirror_mode": {
    "name": "ipython",
    "version": 3
   },
   "file_extension": ".py",
   "mimetype": "text/x-python",
   "name": "python",
   "nbconvert_exporter": "python",
   "pygments_lexer": "ipython3",
   "version": "3.8.10"
  }
 },
 "nbformat": 4,
 "nbformat_minor": 5
}
