{
 "cells": [
  {
   "cell_type": "code",
   "execution_count": 51,
   "id": "5a60e5b1",
   "metadata": {},
   "outputs": [],
   "source": [
    "import pandas as pd\n",
    "from sklearn.model_selection import train_test_split\n",
    "from imblearn.over_sampling import SMOTE\n",
    "import numpy as np\n",
    "import collections"
   ]
  },
  {
   "cell_type": "code",
   "execution_count": 52,
   "id": "c4743ccc",
   "metadata": {},
   "outputs": [],
   "source": [
    "df = pd.read_csv('../data_p3/orders.csv')"
   ]
  },
  {
   "cell_type": "code",
   "execution_count": 53,
   "id": "4878ffb5",
   "metadata": {},
   "outputs": [],
   "source": [
    "X_train,X_test, y_train, y_test = train_test_split(df.drop(['late_order_t'],axis=1), df['late_order_t'].ravel(), test_size=0.2)"
   ]
  },
  {
   "cell_type": "code",
   "execution_count": 54,
   "id": "5913ccaf",
   "metadata": {},
   "outputs": [
    {
     "name": "stdout",
     "output_type": "stream",
     "text": [
      "(21708, 62)\n",
      "(26049, 62)\n"
     ]
    }
   ],
   "source": [
    "unbalancedCoeff=1.2\n",
    "X_train['late_order_t']=y_train\n",
    "numRowsTrue=int(X_train[X_train['late_order_t']==True].shape[0]*unbalancedCoeff)\n",
    "\n",
    "X_train_true=X_train[X_train['late_order_t']==True]\n",
    "X_train_false=X_train[X_train['late_order_t']==False][0:numRowsTrue]\n",
    "\n",
    "print(X_train_true.shape)\n",
    "print(X_train_false.shape)\n",
    "X_train=pd.concat([X_train_true,X_train_false])\n",
    "X_train = X_train.sample(frac=1)\n"
   ]
  },
  {
   "cell_type": "code",
   "execution_count": 55,
   "id": "a2f59cb2",
   "metadata": {},
   "outputs": [],
   "source": [
    "X_test['late_order_t']=y_test\n",
    "\n",
    "\n",
    "X_train.to_csv(f\"../data_p4/trainModel_unbalanced_{unbalancedCoeff}.csv\", index=False)\n",
    "X_test.to_csv(f\"../data_p4/testModel_unbalanced_{unbalancedCoeff}.csv\", index=False)"
   ]
  },
  {
   "cell_type": "code",
   "execution_count": null,
   "id": "70bc8684",
   "metadata": {},
   "outputs": [],
   "source": []
  }
 ],
 "metadata": {
  "kernelspec": {
   "display_name": "Python 3 (ipykernel)",
   "language": "python",
   "name": "python3"
  },
  "language_info": {
   "codemirror_mode": {
    "name": "ipython",
    "version": 3
   },
   "file_extension": ".py",
   "mimetype": "text/x-python",
   "name": "python",
   "nbconvert_exporter": "python",
   "pygments_lexer": "ipython3",
   "version": "3.8.10"
  }
 },
 "nbformat": 4,
 "nbformat_minor": 5
}
