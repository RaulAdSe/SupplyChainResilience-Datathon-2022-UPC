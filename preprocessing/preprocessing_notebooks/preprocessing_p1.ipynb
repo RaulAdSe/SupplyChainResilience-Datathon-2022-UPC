{
 "cells": [
  {
   "cell_type": "code",
   "execution_count": 97,
   "id": "c4ae3dd2",
   "metadata": {},
   "outputs": [],
   "source": [
    "import pandas as pd\n",
    "import numpy as np"
   ]
  },
  {
   "cell_type": "code",
   "execution_count": 98,
   "id": "2ac5458a",
   "metadata": {},
   "outputs": [],
   "source": [
    "# Load Data\n",
    "df_orders = pd.read_csv(\"../Raw data/orders.csv\", sep=\";\")\n",
    "df_test = pd.read_csv(\"../Raw data/test.csv\", sep=\";\")\n",
    "df_cities_data = pd.read_csv(\"../Raw data/cities_data.csv\", sep=\";\")"
   ]
  },
  {
   "cell_type": "markdown",
   "id": "e8b3d7cc",
   "metadata": {},
   "source": [
    "### Replace NaN and homogenize"
   ]
  },
  {
   "cell_type": "markdown",
   "id": "decae230",
   "metadata": {},
   "source": [
    "#### TRAIN"
   ]
  },
  {
   "cell_type": "code",
   "execution_count": 99,
   "id": "69ee0fae",
   "metadata": {},
   "outputs": [],
   "source": [
    "df_orders.loc[df_orders['logistic_hub'].isna(),'logistic_hub']=\"Direct shippment\"\n",
    "df_orders.loc[df_orders['origin_port']==\"ATHENAS\",'origin_port']=\"Athens\"\n",
    "df_orders.loc[df_orders['origin_port']==\"BCN\",'origin_port']=\"Barcelona\""
   ]
  },
  {
   "cell_type": "markdown",
   "id": "725b8401",
   "metadata": {},
   "source": [
    "#### CITIES DATA"
   ]
  },
  {
   "cell_type": "code",
   "execution_count": 100,
   "id": "00973cd6",
   "metadata": {},
   "outputs": [],
   "source": [
    "df_cities_data.drop(['city_from_coord','city_to_coord'], axis=1, inplace=True)\n",
    "tmp=df_cities_data\n",
    "tmp=tmp.rename({'city_from_name':'city_to_name2'}, axis=1)\n",
    "tmp=tmp.rename({'city_to_name':'city_from_name'}, axis=1)\n",
    "tmp=tmp.rename({'city_to_name2':'city_to_name'}, axis=1)\n",
    "tmp = tmp[[\"city_from_name\", \"city_to_name\", \"distance\"]]\n",
    "result=pd.concat([df_cities_data,tmp])"
   ]
  },
  {
   "cell_type": "markdown",
   "id": "2d7f1fed",
   "metadata": {},
   "source": [
    "#### TEST"
   ]
  },
  {
   "cell_type": "code",
   "execution_count": 66,
   "id": "2e80837c",
   "metadata": {},
   "outputs": [],
   "source": [
    "df_test.loc[df_test['logistic_hub'].isna(),'logistic_hub']=\"Direct shippment\"\n",
    "df_test.loc[df_test['origin_port']==\"ATHENAS\",'origin_port']=\"Athens\"\n",
    "df_test.loc[df_test['origin_port']==\"BCN\",'origin_port']=\"Barcelona\""
   ]
  },
  {
   "cell_type": "markdown",
   "id": "5e3bdbeb",
   "metadata": {},
   "source": [
    "### Save Preprocessed Data"
   ]
  },
  {
   "cell_type": "code",
   "execution_count": 101,
   "id": "f32e5546",
   "metadata": {},
   "outputs": [],
   "source": [
    "df_orders.to_csv(\"../data_p1/orders.csv\", index=False)\n",
    "df_test.to_csv(\"../data_p1/test.csv\", index=False)\n",
    "df_test.to_csv(\"../data_p1/cities_data.csv\", index=False)"
   ]
  },
  {
   "cell_type": "code",
   "execution_count": null,
   "id": "aa996e3c",
   "metadata": {},
   "outputs": [],
   "source": []
  }
 ],
 "metadata": {
  "kernelspec": {
   "display_name": "Python 3 (ipykernel)",
   "language": "python",
   "name": "python3"
  },
  "language_info": {
   "codemirror_mode": {
    "name": "ipython",
    "version": 3
   },
   "file_extension": ".py",
   "mimetype": "text/x-python",
   "name": "python",
   "nbconvert_exporter": "python",
   "pygments_lexer": "ipython3",
   "version": "3.8.10"
  }
 },
 "nbformat": 4,
 "nbformat_minor": 5
}
