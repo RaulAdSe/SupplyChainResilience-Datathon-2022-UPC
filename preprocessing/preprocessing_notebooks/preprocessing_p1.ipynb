{
 "cells": [
  {
   "cell_type": "code",
   "execution_count": 4,
   "id": "c4ae3dd2",
   "metadata": {},
   "outputs": [],
   "source": [
    "import pandas as pd\n",
    "import numpy as np"
   ]
  },
  {
   "cell_type": "code",
   "execution_count": 12,
   "id": "2ac5458a",
   "metadata": {},
   "outputs": [],
   "source": [
    "# Load Data\n",
    "df_orders = pd.read_csv(\"../Raw data/orders.csv\", sep=\";\")\n",
    "df_test = pd.read_csv(\"../Raw data/test.csv\", sep=\";\")"
   ]
  },
  {
   "cell_type": "markdown",
   "id": "cc977db1",
   "metadata": {},
   "source": [
    "### Replace NaN and homogenize"
   ]
  },
  {
   "cell_type": "markdown",
   "id": "9a3c409a",
   "metadata": {},
   "source": [
    "#### TRAIN"
   ]
  },
  {
   "cell_type": "code",
   "execution_count": 32,
   "id": "0f4c340d",
   "metadata": {},
   "outputs": [
    {
     "name": "stdout",
     "output_type": "stream",
     "text": [
      "['Rotterdam' 'Athens' 'Barcelona' 'Direct shippment']\n"
     ]
    }
   ],
   "source": [
    "df_orders[df_orders['logistic_hub'].isna()]=\"Direct shippment\"\n",
    "df_orders[df_orders['origin_port']==\"ATHENAS\"]=\"Athens\"\n",
    "df_orders[df_orders['origin_port']==\"BCN\"]=\"Barcelona\""
   ]
  },
  {
   "cell_type": "markdown",
   "id": "69fe0853",
   "metadata": {},
   "source": [
    "#### TEST"
   ]
  },
  {
   "cell_type": "code",
   "execution_count": null,
   "id": "20c93e01",
   "metadata": {},
   "outputs": [],
   "source": [
    "df_test[df_test['logistic_hub'].isna()]=\"Direct shippment\"\n",
    "df_test[df_test['origin_port']==\"ATHENAS\"]=\"Athens\"\n",
    "df_test[df_test['origin_port']==\"BCN\"]=\"Barcelona\""
   ]
  },
  {
   "cell_type": "markdown",
   "id": "5fdc24db",
   "metadata": {},
   "source": [
    "### Save Preprocessed Data"
   ]
  },
  {
   "cell_type": "code",
   "execution_count": null,
   "id": "2bc177e9",
   "metadata": {},
   "outputs": [],
   "source": [
    "df_orders.to_csv(\"../data_p1/orders.csv\", index=False)\n",
    "df_test.to_csv(\"../data_p1/test.csv\", index=False)"
   ]
  }
 ],
 "metadata": {
  "kernelspec": {
   "display_name": "Python 3 (ipykernel)",
   "language": "python",
   "name": "python3"
  },
  "language_info": {
   "codemirror_mode": {
    "name": "ipython",
    "version": 3
   },
   "file_extension": ".py",
   "mimetype": "text/x-python",
   "name": "python",
   "nbconvert_exporter": "python",
   "pygments_lexer": "ipython3",
   "version": "3.8.10"
  }
 },
 "nbformat": 4,
 "nbformat_minor": 5
}
