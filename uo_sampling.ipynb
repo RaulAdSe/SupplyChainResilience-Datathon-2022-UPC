{
 "cells": [
  {
   "cell_type": "code",
   "execution_count": null,
   "metadata": {},
   "outputs": [],
   "source": [
    "import pandas as pd\n",
    "import matplotlib.pyplot as plt\n",
    "from sklearn.utils import shuffle\n",
    "import numpy as np\n",
    "from sklearn.model_selection import train_test_split\n",
    "from imblearn.over_sampling import SMOTE\n",
    "from imblearn.under_sampling import RandomUnderSampler \n",
    "from imblearn.over_sampling import RandomOverSampler \n",
    "from imblearn.under_sampling import NearMiss "
   ]
  },
  {
   "cell_type": "code",
   "execution_count": null,
   "metadata": {},
   "outputs": [],
   "source": [
    "df = pd.read_csv('../JOINED_DATA/df_joined.csv')"
   ]
  },
  {
   "cell_type": "code",
   "execution_count": null,
   "metadata": {},
   "outputs": [],
   "source": [
    "\n",
    "df = df.dropna()\n",
    "\n",
    "X_train, X_test, y_train, y_test = train_test_split(df.drop(['late_order'],axis=1), df['late_order'].ravel(), test_size=0.33)\n",
    "\n",
    "val = ((sum(y_train==1)/sum(y_train==0)))\n",
    "print((1-val)/2)\n",
    "\n",
    "so = SMOTE(sampling_strategy= 1-(1-val)/2, k_neighbors=5) \n",
    "#su = RandomUnderSampler(sampling_strategy=1, replacement=True)\n",
    "su = NearMiss(sampling_strategy = 'majority')\n",
    "#su = RandomUnderSampler(sampling_strategy='majority')\n",
    "#so = RandomOverSampler(sampling_strategy='minority')    \n"
   ]
  },
  {
   "cell_type": "code",
   "execution_count": null,
   "metadata": {},
   "outputs": [],
   "source": [
    "X_res_o, y_res_o = so.fit_resample(X_train, y_train)\n",
    "X_res_o = X_res_o[:int(76485 + 36324/2)]; y_res_o = y_res_o[:int(76485 + 36324/2)]; \n",
    "\n",
    "X_res_u, y_res_u = su.fit_resample(X_res_o, y_res_o)    #Esto me las añade al final!"
   ]
  }
 ],
 "metadata": {
  "kernelspec": {
   "display_name": "Python 3.9.1 64-bit",
   "language": "python",
   "name": "python3"
  },
  "language_info": {
   "name": "python",
   "version": "3.9.1"
  },
  "orig_nbformat": 4,
  "vscode": {
   "interpreter": {
    "hash": "52634da84371cba311ea128a5ea7cdc41ff074b781779e754b270ff9f8153cee"
   }
  }
 },
 "nbformat": 4,
 "nbformat_minor": 2
}
